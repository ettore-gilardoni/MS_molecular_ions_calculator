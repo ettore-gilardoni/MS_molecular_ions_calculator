{
 "cells": [
  {
   "cell_type": "code",
   "execution_count": 1,
   "metadata": {},
   "outputs": [],
   "source": [
    "import pandas as pd\n",
    "from molmass import Formula"
   ]
  },
  {
   "cell_type": "code",
   "execution_count": 18,
   "metadata": {},
   "outputs": [
    {
     "name": "stdout",
     "output_type": "stream",
     "text": [
      "indicate formula bruta of the molecule: C6H12O6\n"
     ]
    }
   ],
   "source": [
    "formula = input('indicate formula bruta of the molecule: ')\n",
    "form = Formula(formula)\n",
    "MW = form.isotope.mass"
   ]
  },
  {
   "cell_type": "code",
   "execution_count": 19,
   "metadata": {},
   "outputs": [],
   "source": [
    "#define list of possible molecular ion [e.g. Na+ - K+ - 2M+H+ -etc... ]\n",
    "bi_charge = round(((molecular_ion + h_weigh)/2),5)\n",
    "tri_charge = round(((molecular_ion + 2*h_weigh)/3),5) \n",
    "search = [molecular_ion,bi_charge,tri_charge]\n",
    "bi_charge = round(((molecular_ion - h_weigh)/2),5)\n",
    "tri_charge = round(((molecular_ion - 2*h_weigh)/3),5) \n",
    "search_neg = [molecular_ion, bi_charge, tri_charge]"
   ]
  },
  {
   "cell_type": "code",
   "execution_count": 28,
   "metadata": {},
   "outputs": [
    {
     "data": {
      "text/html": [
       "<div>\n",
       "<style scoped>\n",
       "    .dataframe tbody tr th:only-of-type {\n",
       "        vertical-align: middle;\n",
       "    }\n",
       "\n",
       "    .dataframe tbody tr th {\n",
       "        vertical-align: top;\n",
       "    }\n",
       "\n",
       "    .dataframe thead th {\n",
       "        text-align: right;\n",
       "    }\n",
       "</style>\n",
       "<table border=\"1\" class=\"dataframe\">\n",
       "  <thead>\n",
       "    <tr style=\"text-align: right;\">\n",
       "      <th></th>\n",
       "      <th>Molecular Ion</th>\n",
       "      <th>m/z</th>\n",
       "    </tr>\n",
       "    <tr>\n",
       "      <th>Index</th>\n",
       "      <th></th>\n",
       "      <th></th>\n",
       "    </tr>\n",
       "  </thead>\n",
       "  <tbody>\n",
       "    <tr>\n",
       "      <th>0</th>\n",
       "      <td>[M+H]+</td>\n",
       "      <td>181.07000</td>\n",
       "    </tr>\n",
       "    <tr>\n",
       "      <th>1</th>\n",
       "      <td>[M+2H]2+</td>\n",
       "      <td>91.03864</td>\n",
       "    </tr>\n",
       "    <tr>\n",
       "      <th>2</th>\n",
       "      <td>[M+3H]3+</td>\n",
       "      <td>61.02818</td>\n",
       "    </tr>\n",
       "    <tr>\n",
       "      <th>3</th>\n",
       "      <td>[M-H]-</td>\n",
       "      <td>181.07000</td>\n",
       "    </tr>\n",
       "    <tr>\n",
       "      <th>4</th>\n",
       "      <td>[M-2H]2-</td>\n",
       "      <td>90.03136</td>\n",
       "    </tr>\n",
       "    <tr>\n",
       "      <th>5</th>\n",
       "      <td>[M-3H]3-</td>\n",
       "      <td>59.68515</td>\n",
       "    </tr>\n",
       "  </tbody>\n",
       "</table>\n",
       "</div>"
      ],
      "text/plain": [
       "      Molecular Ion        m/z\n",
       "Index                         \n",
       "0            [M+H]+  181.07000\n",
       "1          [M+2H]2+   91.03864\n",
       "2          [M+3H]3+   61.02818\n",
       "3            [M-H]-  181.07000\n",
       "4          [M-2H]2-   90.03136\n",
       "5          [M-3H]3-   59.68515"
      ]
     },
     "execution_count": 28,
     "metadata": {},
     "output_type": "execute_result"
    }
   ],
   "source": [
    "if pos_neg == 'p':\n",
    "    peaks = pd.DataFrame()\n",
    "    peaks['m/z'] = search + search_neg\n",
    "    peaks['Molecular Ion'] = ['[M+H]+','[M+2H]2+','[M+3H]3+','[M-H]-','[M-2H]2-','[M-3H]3-']\n",
    "    peaks['Index'] = [0,1,2,3,4,5]\n",
    "    peaks = peaks.set_index('Index')\n",
    "    cols = list(peaks)\n",
    "    cols.insert(0,cols.pop(cols.index('Molecular Ion')))\n",
    "    cols.insert(1,cols.pop(cols.index('m/z')))\n",
    "    peaks = peaks.loc[:,cols]\n",
    "peaks"
   ]
  },
  {
   "cell_type": "code",
   "execution_count": 31,
   "metadata": {},
   "outputs": [
    {
     "name": "stdout",
     "output_type": "stream",
     "text": [
      "choose a name for the file or write \"n\" to not print it out? glucose\n"
     ]
    }
   ],
   "source": [
    "result = input('choose a name for the file or write \"n\" to not print it out? ')\n",
    "if result != 'n':\n",
    "    peaks.to_csv(result, sep=\"\\t\")\n",
    "else:\n",
    "    pass"
   ]
  },
  {
   "cell_type": "code",
   "execution_count": null,
   "metadata": {},
   "outputs": [],
   "source": []
  }
 ],
 "metadata": {
  "kernelspec": {
   "display_name": "Python 3",
   "language": "python",
   "name": "python3"
  },
  "language_info": {
   "codemirror_mode": {
    "name": "ipython",
    "version": 3
   },
   "file_extension": ".py",
   "mimetype": "text/x-python",
   "name": "python",
   "nbconvert_exporter": "python",
   "pygments_lexer": "ipython3",
   "version": "3.8.5"
  }
 },
 "nbformat": 4,
 "nbformat_minor": 4
}
