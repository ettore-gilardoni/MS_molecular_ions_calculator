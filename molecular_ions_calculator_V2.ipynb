{
 "cells": [
  {
   "cell_type": "code",
   "execution_count": 1,
   "metadata": {},
   "outputs": [],
   "source": [
    "import pandas as pd\n",
    "from molmass import Formula"
   ]
  },
  {
   "cell_type": "code",
   "execution_count": 2,
   "metadata": {},
   "outputs": [
    {
     "name": "stdout",
     "output_type": "stream",
     "text": [
      "indicate formula bruta of the molecule: C39H59D8N5O7\n"
     ]
    }
   ],
   "source": [
    "formula = input('indicate formula bruta of the molecule: ')\n",
    "form = Formula(formula)\n",
    "MW = form.isotope.mass"
   ]
  },
  {
   "cell_type": "code",
   "execution_count": 3,
   "metadata": {},
   "outputs": [],
   "source": [
    "#define list of possible molecular ion [e.g. Na+ - K+ - 2M+H+ -etc... ]\n",
    "h_weigh=1.007276\n",
    "molecular_ion = (MW + h_weigh)\n",
    "bi_charge = round(((molecular_ion + h_weigh)/2),5)\n",
    "tri_charge = round(((molecular_ion + 2*h_weigh)/3),5) \n",
    "search = [molecular_ion,bi_charge,tri_charge]\n",
    "bi_charge = round(((molecular_ion - h_weigh)/2),5)\n",
    "tri_charge = round(((molecular_ion - 2*h_weigh)/3),5) \n",
    "search_neg = [molecular_ion, bi_charge, tri_charge]"
   ]
  },
  {
   "cell_type": "code",
   "execution_count": null,
   "metadata": {},
   "outputs": [],
   "source": [
    "name = input ('name of the molecule: ')"
   ]
  },
  {
   "cell_type": "code",
   "execution_count": 70,
   "metadata": {},
   "outputs": [
    {
     "data": {
      "text/html": [
       "<div>\n",
       "<style scoped>\n",
       "    .dataframe tbody tr th:only-of-type {\n",
       "        vertical-align: middle;\n",
       "    }\n",
       "\n",
       "    .dataframe tbody tr th {\n",
       "        vertical-align: top;\n",
       "    }\n",
       "\n",
       "    .dataframe thead th {\n",
       "        text-align: right;\n",
       "    }\n",
       "</style>\n",
       "<table border=\"1\" class=\"dataframe\">\n",
       "  <thead>\n",
       "    <tr style=\"text-align: right;\">\n",
       "      <th></th>\n",
       "      <th>Compound</th>\n",
       "      <th>[M+H]+</th>\n",
       "      <th>[M+2H]2+</th>\n",
       "      <th>[M+3H]3+</th>\n",
       "      <th>[M-H]-</th>\n",
       "      <th>[M-2H]2-</th>\n",
       "      <th>[M-3H]3-</th>\n",
       "    </tr>\n",
       "  </thead>\n",
       "  <tbody>\n",
       "    <tr>\n",
       "      <th>MMAE-D8</th>\n",
       "      <td>MMAE-D8</td>\n",
       "      <td>726.562</td>\n",
       "      <td>363.784</td>\n",
       "      <td>242.859</td>\n",
       "      <td>726.562</td>\n",
       "      <td>362.777</td>\n",
       "      <td>241.516</td>\n",
       "    </tr>\n",
       "  </tbody>\n",
       "</table>\n",
       "</div>"
      ],
      "text/plain": [
       "        Compound   [M+H]+ [M+2H]2+ [M+3H]3+   [M-H]- [M-2H]2- [M-3H]3-\n",
       "MMAE-D8  MMAE-D8  726.562  363.784  242.859  726.562  362.777  241.516"
      ]
     },
     "execution_count": 70,
     "metadata": {},
     "output_type": "execute_result"
    }
   ],
   "source": [
    "name = 'MMAE-D8'\n",
    "name2 = [name]\n",
    "peaks = pd.DataFrame()\n",
    "peaks[name] = name2 + search + search_neg\n",
    "peaks[''] = ['Compound','[M+H]+','[M+2H]2+','[M+3H]3+','[M-H]-','[M-2H]2-','[M-3H]3-']\n",
    "peaks = peaks.set_index('')\n",
    "cols = list(peaks)\n",
    "cols.insert(1,cols.pop(cols.index(name)))\n",
    "peaks = peaks.loc[:,cols]\n",
    "peaks\n",
    "peaks.T"
   ]
  },
  {
   "cell_type": "code",
   "execution_count": 77,
   "metadata": {},
   "outputs": [],
   "source": [
    "df = pd.read_csv('test.csv')"
   ]
  },
  {
   "cell_type": "code",
   "execution_count": 78,
   "metadata": {},
   "outputs": [
    {
     "data": {
      "text/html": [
       "<div>\n",
       "<style scoped>\n",
       "    .dataframe tbody tr th:only-of-type {\n",
       "        vertical-align: middle;\n",
       "    }\n",
       "\n",
       "    .dataframe tbody tr th {\n",
       "        vertical-align: top;\n",
       "    }\n",
       "\n",
       "    .dataframe thead th {\n",
       "        text-align: right;\n",
       "    }\n",
       "</style>\n",
       "<table border=\"1\" class=\"dataframe\">\n",
       "  <thead>\n",
       "    <tr style=\"text-align: right;\">\n",
       "      <th></th>\n",
       "      <th>Compound</th>\n",
       "      <th>[M+H]+</th>\n",
       "      <th>[M+2H]2+</th>\n",
       "      <th>[M+3H]3+</th>\n",
       "      <th>[M-H]-</th>\n",
       "      <th>[M-2H]2-</th>\n",
       "      <th>[M-3H]3-</th>\n",
       "    </tr>\n",
       "  </thead>\n",
       "  <tbody>\n",
       "    <tr>\n",
       "      <th>0</th>\n",
       "      <td>MMAE-D8</td>\n",
       "      <td>726.562</td>\n",
       "      <td>363.784</td>\n",
       "      <td>242.859</td>\n",
       "      <td>726.562</td>\n",
       "      <td>362.777</td>\n",
       "      <td>241.516</td>\n",
       "    </tr>\n",
       "  </tbody>\n",
       "</table>\n",
       "</div>"
      ],
      "text/plain": [
       "  Compound   [M+H]+ [M+2H]2+ [M+3H]3+   [M-H]- [M-2H]2- [M-3H]3-\n",
       "0  MMAE-D8  726.562  363.784  242.859  726.562  362.777  241.516"
      ]
     },
     "execution_count": 78,
     "metadata": {},
     "output_type": "execute_result"
    }
   ],
   "source": [
    "df = df.append(peaks.T, ignore_index = True)\n",
    "df"
   ]
  },
  {
   "cell_type": "code",
   "execution_count": 79,
   "metadata": {},
   "outputs": [],
   "source": [
    "df.to_csv('test1.csv', index = False)"
   ]
  },
  {
   "cell_type": "code",
   "execution_count": null,
   "metadata": {},
   "outputs": [],
   "source": []
  }
 ],
 "metadata": {
  "kernelspec": {
   "display_name": "Python 3",
   "language": "python",
   "name": "python3"
  },
  "language_info": {
   "codemirror_mode": {
    "name": "ipython",
    "version": 3
   },
   "file_extension": ".py",
   "mimetype": "text/x-python",
   "name": "python",
   "nbconvert_exporter": "python",
   "pygments_lexer": "ipython3",
   "version": "3.8.5"
  }
 },
 "nbformat": 4,
 "nbformat_minor": 4
}
